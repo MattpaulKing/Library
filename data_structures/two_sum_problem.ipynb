{
 "cells": [
  {
   "cell_type": "code",
   "execution_count": 1,
   "metadata": {},
   "outputs": [],
   "source": [
    "class ListNode:\n",
    "    def __init__(self, val=0, next=None):\n",
    "        self.val = val\n",
    "        self.next = next"
   ]
  },
  {
   "cell_type": "code",
   "execution_count": 17,
   "metadata": {},
   "outputs": [],
   "source": [
    "l3 = ListNode(2)\n",
    "l2 = ListNode(3, l3)\n",
    "l1 = ListNode(4, l2)\n",
    "\n",
    "d3 = ListNode(7)\n",
    "d2 = ListNode(4, d3)\n",
    "d1 = ListNode(2, d2)\n"
   ]
  },
  {
   "cell_type": "code",
   "execution_count": 18,
   "metadata": {},
   "outputs": [],
   "source": [
    "temp = 0\n",
    "prev_node = ListNode(0, next=None)\n",
    "res = []\n",
    "while l1 != None and d1 != None:\n",
    "    temp += l1.val + d1.val\n",
    "    if temp == 10:\n",
    "        temp_node = ListNode(0, next=None)\n",
    "        temp = 1\n",
    "    elif temp > 9:\n",
    "        temp_node = ListNode(temp, next=None)\n",
    "        temp = 0\n",
    "    else:\n",
    "        temp_node = ListNode(temp, next=None)\n",
    "        temp = 0\n",
    "    l1 = l1.next\n",
    "    d1 = d1.next\n",
    "    if prev_node != None:\n",
    "        prev_node.next = temp_node\n",
    "    prev_node = temp_node\n",
    "    res.append(prev_node.val)"
   ]
  },
  {
   "cell_type": "code",
   "execution_count": 19,
   "metadata": {},
   "outputs": [
    {
     "data": {
      "text/plain": [
       "[6, 7, 9]"
      ]
     },
     "execution_count": 19,
     "metadata": {},
     "output_type": "execute_result"
    }
   ],
   "source": [
    "res "
   ]
  },
  {
   "cell_type": "code",
   "execution_count": 11,
   "metadata": {},
   "outputs": [
    {
     "data": {
      "text/plain": [
       "<pymongo.results.InsertOneResult object at 0x000001B14540B1C0>"
      ]
     },
     "execution_count": 11,
     "metadata": {},
     "output_type": "execute_result"
    }
   ],
   "source": []
  },
  {
   "cell_type": "code",
   "execution_count": null,
   "metadata": {},
   "outputs": [],
   "source": []
  }
 ],
 "metadata": {
  "interpreter": {
   "hash": "2be5faf79681da6f2a61fdfdd5405d65d042280f7fba6178067603e3a2925119"
  },
  "kernelspec": {
   "display_name": "Python 3.10.0 64-bit",
   "language": "python",
   "name": "python3"
  },
  "language_info": {
   "codemirror_mode": {
    "name": "ipython",
    "version": 3
   },
   "file_extension": ".py",
   "mimetype": "text/x-python",
   "name": "python",
   "nbconvert_exporter": "python",
   "pygments_lexer": "ipython3",
   "version": "3.10.0"
  },
  "orig_nbformat": 4
 },
 "nbformat": 4,
 "nbformat_minor": 2
}
